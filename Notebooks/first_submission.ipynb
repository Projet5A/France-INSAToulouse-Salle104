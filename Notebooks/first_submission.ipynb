{
 "cells": [
  {
   "cell_type": "markdown",
   "metadata": {},
   "source": [
    "# Data and Libraries"
   ]
  },
  {
   "cell_type": "code",
   "execution_count": 1,
   "metadata": {
    "_cell_guid": "79c7e3d0-c299-4dcb-8224-4455121ee9b0",
    "_uuid": "d629ff2d2480ee46fbb7e2d37f6b5fab8052498a"
   },
   "outputs": [],
   "source": [
    "import pandas as pd\n",
    "import pickle\n",
    "import matplotlib.pyplot as plt\n",
    "import numpy as np\n",
    "\n",
    "from sklearn.model_selection import train_test_split\n",
    "from sklearn.linear_model import LogisticRegression\n",
    "from sklearn.feature_extraction.text import TfidfVectorizer\n",
    "from sklearn.metrics import f1_score, confusion_matrix\n",
    "\n",
    "from imblearn.over_sampling import SMOTE\n",
    "from imblearn.under_sampling import RandomUnderSampler"
   ]
  },
  {
   "cell_type": "code",
   "execution_count": 2,
   "metadata": {},
   "outputs": [],
   "source": [
    "#DATA_PATH = \"/kaggle/input/defi-ia-insa-toulouse\"\n",
    "DATA_PATH = '../Data'"
   ]
  },
  {
   "cell_type": "code",
   "execution_count": 48,
   "metadata": {},
   "outputs": [],
   "source": [
    "train_df = pd.read_json(DATA_PATH+\"/train.json\").set_index('Id')\n",
    "test_df = pd.read_json(DATA_PATH+\"/test.json\")\n",
    "train_label = pd.read_csv(DATA_PATH+\"/train_label.csv\").set_index('Id')"
   ]
  },
  {
   "cell_type": "code",
   "execution_count": 4,
   "metadata": {},
   "outputs": [
    {
     "data": {
      "text/html": [
       "<div>\n",
       "<style scoped>\n",
       "    .dataframe tbody tr th:only-of-type {\n",
       "        vertical-align: middle;\n",
       "    }\n",
       "\n",
       "    .dataframe tbody tr th {\n",
       "        vertical-align: top;\n",
       "    }\n",
       "\n",
       "    .dataframe thead th {\n",
       "        text-align: right;\n",
       "    }\n",
       "</style>\n",
       "<table border=\"1\" class=\"dataframe\">\n",
       "  <thead>\n",
       "    <tr style=\"text-align: right;\">\n",
       "      <th></th>\n",
       "      <th>description</th>\n",
       "      <th>gender</th>\n",
       "    </tr>\n",
       "    <tr>\n",
       "      <th>Id</th>\n",
       "      <th></th>\n",
       "      <th></th>\n",
       "    </tr>\n",
       "  </thead>\n",
       "  <tbody>\n",
       "    <tr>\n",
       "      <th>0</th>\n",
       "      <td>She is also a Ronald D. Asmus Policy Entrepre...</td>\n",
       "      <td>F</td>\n",
       "    </tr>\n",
       "    <tr>\n",
       "      <th>1</th>\n",
       "      <td>He is a member of the AICPA and WICPA. Brent ...</td>\n",
       "      <td>M</td>\n",
       "    </tr>\n",
       "    <tr>\n",
       "      <th>2</th>\n",
       "      <td>Dr. Aster has held teaching and research posi...</td>\n",
       "      <td>M</td>\n",
       "    </tr>\n",
       "    <tr>\n",
       "      <th>3</th>\n",
       "      <td>He runs a boutique design studio attending cl...</td>\n",
       "      <td>M</td>\n",
       "    </tr>\n",
       "    <tr>\n",
       "      <th>4</th>\n",
       "      <td>He focuses on cloud security, identity and ac...</td>\n",
       "      <td>M</td>\n",
       "    </tr>\n",
       "  </tbody>\n",
       "</table>\n",
       "</div>"
      ],
      "text/plain": [
       "                                          description gender\n",
       "Id                                                          \n",
       "0    She is also a Ronald D. Asmus Policy Entrepre...      F\n",
       "1    He is a member of the AICPA and WICPA. Brent ...      M\n",
       "2    Dr. Aster has held teaching and research posi...      M\n",
       "3    He runs a boutique design studio attending cl...      M\n",
       "4    He focuses on cloud security, identity and ac...      M"
      ]
     },
     "execution_count": 4,
     "metadata": {},
     "output_type": "execute_result"
    }
   ],
   "source": [
    "train_df.head()"
   ]
  },
  {
   "cell_type": "markdown",
   "metadata": {},
   "source": [
    "# Train/Test Split"
   ]
  },
  {
   "cell_type": "code",
   "execution_count": 5,
   "metadata": {},
   "outputs": [],
   "source": [
    "#X = train_df.copy()\n",
    "#Y = train_label.copy()"
   ]
  },
  {
   "cell_type": "code",
   "execution_count": 6,
   "metadata": {},
   "outputs": [],
   "source": [
    "#X_train,X_test,Y_train,Y_test = train_test_split(X,Y,test_size=0.2,random_state=0)"
   ]
  },
  {
   "cell_type": "code",
   "execution_count": 7,
   "metadata": {},
   "outputs": [],
   "source": [
    "#d1 = pd.DataFrame(np.transpose([Y_train.Category.value_counts().values/Y_train.shape[0]]), index = Y_train.Category.value_counts().index, columns=['Y_train'])\n",
    "#d2 = pd.DataFrame(np.transpose([Y_test.Category.value_counts().values/Y_test.shape[0]]), index = Y_test.Category.value_counts().index, columns=['Y_test'])\n",
    "#d = pd.concat([d1,d2],axis=1,sort=False)\n",
    "#d"
   ]
  },
  {
   "cell_type": "markdown",
   "metadata": {},
   "source": [
    "**Pour la submission**"
   ]
  },
  {
   "cell_type": "code",
   "execution_count": 49,
   "metadata": {},
   "outputs": [],
   "source": [
    "X_train = train_df.copy()\n",
    "Y_train = train_label.copy()\n",
    "\n",
    "X_test = test_df.copy()"
   ]
  },
  {
   "cell_type": "markdown",
   "metadata": {},
   "source": [
    "# Cleaning"
   ]
  },
  {
   "cell_type": "code",
   "execution_count": 50,
   "metadata": {},
   "outputs": [],
   "source": [
    "X_train[\"description_lower\"] = [x.lower() for x in X_train.description]\n",
    "X_test[\"description_lower\"] = [x.lower() for x in X_test.description]"
   ]
  },
  {
   "cell_type": "markdown",
   "metadata": {},
   "source": [
    "# Vectorization"
   ]
  },
  {
   "cell_type": "code",
   "execution_count": 51,
   "metadata": {},
   "outputs": [
    {
     "name": "stdout",
     "output_type": "stream",
     "text": [
      "NB features: 230368\n"
     ]
    },
    {
     "data": {
      "text/plain": [
       "<217197x230368 sparse matrix of type '<class 'numpy.float64'>'\n",
       "\twith 9851657 stored elements in Compressed Sparse Row format>"
      ]
     },
     "execution_count": 51,
     "metadata": {},
     "output_type": "execute_result"
    }
   ],
   "source": [
    "transformer = TfidfVectorizer().fit(X_train[\"description_lower\"].values)\n",
    "print(\"NB features: %d\" %(len(transformer.vocabulary_)))\n",
    "X_train = transformer.transform(X_train[\"description_lower\"].values)\n",
    "X_test = transformer.transform(X_test[\"description_lower\"].values)\n",
    "X_train"
   ]
  },
  {
   "cell_type": "markdown",
   "metadata": {},
   "source": [
    "# Rééquilibrage des classes : SMOTE"
   ]
  },
  {
   "cell_type": "code",
   "execution_count": 11,
   "metadata": {
    "scrolled": true
   },
   "outputs": [
    {
     "data": {
      "text/plain": [
       "19    70016\n",
       "26    18820\n",
       "20    14646\n",
       "14    12622\n",
       "6     12295\n",
       "11    11607\n",
       "22    10391\n",
       "3      9145\n",
       "8      6616\n",
       "24     5841\n",
       "16     5450\n",
       "5      4621\n",
       "15     4292\n",
       "18     4124\n",
       "1      4115\n",
       "13     4060\n",
       "25     3395\n",
       "9      3121\n",
       "27     2288\n",
       "12     1639\n",
       "0      1497\n",
       "17     1406\n",
       "23      967\n",
       "2       944\n",
       "7       858\n",
       "10      831\n",
       "4       807\n",
       "21      783\n",
       "Name: Category, dtype: int64"
      ]
     },
     "execution_count": 11,
     "metadata": {},
     "output_type": "execute_result"
    }
   ],
   "source": [
    "table1 = Y_train.Category.value_counts(dropna=False)\n",
    "table1"
   ]
  },
  {
   "cell_type": "code",
   "execution_count": 12,
   "metadata": {},
   "outputs": [
    {
     "data": {
      "image/png": "[encoded data removed]",
      "text/plain": [
       "<Figure size 432x432 with 1 Axes>"
      ]
     },
     "metadata": {
      "needs_background": "light"
     },
     "output_type": "display_data"
    }
   ],
   "source": [
    "plt.figure(figsize=(6,6))\n",
    "(Y_train.Category.value_counts(dropna=False,normalize=True)*100).plot(kind=\"bar\",rot=90,color=\"gold\")\n",
    "plt.xlabel(\"Category\")\n",
    "plt.ylabel(\"Percentage (%)\")\n",
    "plt.grid(axis=\"y\",linestyle=\"--\")\n",
    "plt.show()"
   ]
  },
  {
   "cell_type": "markdown",
   "metadata": {},
   "source": [
    "**Stratégie SMOTE :**\n",
    "- . < 1 000 : x10\n",
    "- 1 000 < . < 2 000 : x8\n",
    "- 2 000 < . < 3 000 : x7\n",
    "- 3 000 < . < 4 000 : x6\n",
    "- 4 000 < . < 5 000 : x5\n",
    "- 5 000 < . < 7 500 : x4\n",
    "- 7 500 < . < 10 000 : x3\n",
    "- 10 000 < . < 15 000 : x2\n",
    "- 15 000 < . < 25 000 : x1.5\n",
    "- . > 70 000 : à gérer avec undersampling"
   ]
  },
  {
   "cell_type": "code",
   "execution_count": 24,
   "metadata": {},
   "outputs": [],
   "source": [
    "strategy1 = {0: table1[0]*8,\n",
    "            1: table1[1]*5,\n",
    "            2: table1[2]*10,\n",
    "            3: table1[3]*3,\n",
    "            4: table1[4]*10,\n",
    "            5: table1[5]*5,\n",
    "            6: table1[6]*2,\n",
    "            7: table1[7]*10,\n",
    "            8: table1[8]*4,\n",
    "            9: table1[9]*6,\n",
    "            10: table1[10]*10,\n",
    "            11: table1[11]*2,\n",
    "            12: table1[12]*8,\n",
    "            13: table1[13]*5,\n",
    "            14: table1[14]*2,\n",
    "            15: table1[15]*5,\n",
    "            16: table1[16]*4,\n",
    "            17: table1[17]*8,\n",
    "            18: table1[18]*5,\n",
    "            19: table1[19],\n",
    "            20: table1[20]*2,\n",
    "            21: table1[21]*10,\n",
    "            22: table1[22]*2,\n",
    "            23: table1[23]*10,\n",
    "            24: table1[24]*4,\n",
    "            25: table1[25]*6,\n",
    "            26: int(table1[26]*1.5),\n",
    "            27: table1[27]*7\n",
    "           }"
   ]
  },
  {
   "cell_type": "code",
   "execution_count": 25,
   "metadata": {},
   "outputs": [
    {
     "name": "stdout",
     "output_type": "stream",
     "text": [
      "Wall time: 2min 47s\n"
     ]
    }
   ],
   "source": [
    "%%time\n",
    "os = SMOTE(random_state=0, sampling_strategy=strategy1)\n",
    "X_train_sample, Y_train_sample = os.fit_sample(X_train, Y_train)"
   ]
  },
  {
   "cell_type": "code",
   "execution_count": 26,
   "metadata": {},
   "outputs": [
    {
     "name": "stdout",
     "output_type": "stream",
     "text": [
      "217197 -> 569839\n"
     ]
    }
   ],
   "source": [
    "print(X_train.shape[0],\"->\",X_train_sample.shape[0])"
   ]
  },
  {
   "cell_type": "code",
   "execution_count": 27,
   "metadata": {},
   "outputs": [
    {
     "data": {
      "image/png": "[encoded data removed]",
      "text/plain": [
       "<Figure size 432x432 with 1 Axes>"
      ]
     },
     "metadata": {
      "needs_background": "light"
     },
     "output_type": "display_data"
    }
   ],
   "source": [
    "plt.figure(figsize=(6,6))\n",
    "(Y_train_sample.Category.value_counts(dropna=False,normalize=True)*100).plot(kind=\"bar\",rot=90,color=\"cyan\")\n",
    "plt.xlabel(\"Category\")\n",
    "plt.ylabel(\"Percentage (%)\")\n",
    "plt.grid(axis=\"y\",linestyle=\"--\")\n",
    "plt.show()"
   ]
  },
  {
   "cell_type": "code",
   "execution_count": 28,
   "metadata": {},
   "outputs": [
    {
     "data": {
      "text/plain": [
       "19    70016\n",
       "20    29292\n",
       "26    28230\n",
       "3     27435\n",
       "8     26464\n",
       "14    25244\n",
       "6     24590\n",
       "24    23364\n",
       "11    23214\n",
       "5     23105\n",
       "16    21800\n",
       "15    21460\n",
       "22    20782\n",
       "18    20620\n",
       "1     20575\n",
       "25    20370\n",
       "13    20300\n",
       "9     18726\n",
       "27    16016\n",
       "12    13112\n",
       "0     11976\n",
       "17    11248\n",
       "23     9670\n",
       "2      9440\n",
       "7      8580\n",
       "10     8310\n",
       "4      8070\n",
       "21     7830\n",
       "Name: Category, dtype: int64"
      ]
     },
     "execution_count": 28,
     "metadata": {},
     "output_type": "execute_result"
    }
   ],
   "source": [
    "table2 = Y_train_sample.Category.value_counts(dropna=False)\n",
    "table2"
   ]
  },
  {
   "cell_type": "markdown",
   "metadata": {},
   "source": [
    "**Stratégie Undersampling :**\n",
    "- . > 70 000 : x0.5"
   ]
  },
  {
   "cell_type": "code",
   "execution_count": 29,
   "metadata": {},
   "outputs": [],
   "source": [
    "strategy2 = {0: table2[0],\n",
    "            1: table2[1],\n",
    "            2: table2[2],\n",
    "            3: table2[3],\n",
    "            4: table2[4],\n",
    "            5: table2[5],\n",
    "            6: table2[6],\n",
    "            7: table2[7],\n",
    "            8: table2[8],\n",
    "            9: table2[9],\n",
    "            10: table2[10],\n",
    "            11: table2[11],\n",
    "            12: table2[12],\n",
    "            13: table2[13],\n",
    "            14: table2[14],\n",
    "            15: table2[15],\n",
    "            16: table2[16],\n",
    "            17: table2[17],\n",
    "            18: table2[18],\n",
    "            19: int(table2[19]*0.5),\n",
    "            20: table2[20],\n",
    "            21: table2[21],\n",
    "            22: table2[22],\n",
    "            23: table2[23],\n",
    "            24: table2[24],\n",
    "            25: table2[25],\n",
    "            26: table2[26],\n",
    "            27: table2[27]\n",
    "           }"
   ]
  },
  {
   "cell_type": "code",
   "execution_count": 30,
   "metadata": {},
   "outputs": [
    {
     "name": "stdout",
     "output_type": "stream",
     "text": [
      "Wall time: 957 ms\n"
     ]
    }
   ],
   "source": [
    "%%time\n",
    "X_train_sample, Y_train_sample = RandomUnderSampler(sampling_strategy=strategy2).fit_sample(X_train_sample,Y_train_sample)"
   ]
  },
  {
   "cell_type": "code",
   "execution_count": 31,
   "metadata": {},
   "outputs": [
    {
     "name": "stdout",
     "output_type": "stream",
     "text": [
      "534831\n"
     ]
    }
   ],
   "source": [
    "print(X_train_sample.shape[0])"
   ]
  },
  {
   "cell_type": "code",
   "execution_count": 32,
   "metadata": {},
   "outputs": [
    {
     "data": {
      "image/png": "[encoded data removed]",
      "text/plain": [
       "<Figure size 432x432 with 1 Axes>"
      ]
     },
     "metadata": {
      "needs_background": "light"
     },
     "output_type": "display_data"
    }
   ],
   "source": [
    "plt.figure(figsize=(6,6))\n",
    "(Y_train_sample.Category.value_counts(dropna=False,normalize=True)*100).plot(kind=\"bar\",rot=90,color=\"limegreen\")\n",
    "plt.xlabel(\"Category\")\n",
    "plt.ylabel(\"Percentage (%)\")\n",
    "plt.grid(axis=\"y\",linestyle=\"--\")\n",
    "plt.show()"
   ]
  },
  {
   "cell_type": "markdown",
   "metadata": {},
   "source": [
    "# Learning\n",
    "\n",
    "We use a simple Logistic Regression model with scikit learn default arguments'value to train the baseline model. "
   ]
  },
  {
   "cell_type": "code",
   "execution_count": 33,
   "metadata": {},
   "outputs": [
    {
     "name": "stdout",
     "output_type": "stream",
     "text": [
      "Wall time: 49min 5s\n"
     ]
    },
    {
     "data": {
      "text/plain": [
       "LogisticRegression(max_iter=500, n_jobs=-1)"
      ]
     },
     "execution_count": 33,
     "metadata": {},
     "output_type": "execute_result"
    }
   ],
   "source": [
    "%%time\n",
    "model = LogisticRegression(max_iter=500, n_jobs=-1)\n",
    "model.fit(X_train_sample, Y_train_sample.Category.values)"
   ]
  },
  {
   "cell_type": "code",
   "execution_count": 34,
   "metadata": {},
   "outputs": [],
   "source": [
    "#with open(\"../Model/log_reg_model1.pkl\",'wb') as f:\n",
    "#    pickle.dump(model,f)"
   ]
  },
  {
   "cell_type": "markdown",
   "metadata": {},
   "source": [
    "# Prediction on test set (after split)"
   ]
  },
  {
   "cell_type": "code",
   "execution_count": 32,
   "metadata": {},
   "outputs": [
    {
     "name": "stdout",
     "output_type": "stream",
     "text": [
      "Score f1: 0.7420696957707199\n"
     ]
    }
   ],
   "source": [
    "#pred = model.predict(X_test)\n",
    "#score_f1 = f1_score(Y_test,pred,average='macro')\n",
    "#print(\"Score f1:\",score_f1)"
   ]
  },
  {
   "cell_type": "markdown",
   "metadata": {},
   "source": [
    "**Rééquilibrage :**\n",
    "- sans : 0.73\n",
    "- smote+undersampling : 0.74"
   ]
  },
  {
   "cell_type": "code",
   "execution_count": 35,
   "metadata": {},
   "outputs": [
    {
     "data": {
      "image/png": "[encoded data removed]",
      "text/plain": [
       "<Figure size 576x576 with 1 Axes>"
      ]
     },
     "metadata": {
      "needs_background": "light"
     },
     "output_type": "display_data"
    }
   ],
   "source": [
    "#plt.figure(figsize=(8,8))\n",
    "#plt.imshow(confusion_matrix(Y_test, pred,normalize='true'))\n",
    "#plt.show()"
   ]
  },
  {
   "cell_type": "markdown",
   "metadata": {},
   "source": [
    "# Prediction & File Generation (on the real test set)"
   ]
  },
  {
   "cell_type": "code",
   "execution_count": 52,
   "metadata": {},
   "outputs": [],
   "source": [
    "predictions = model.predict(X_test)"
   ]
  },
  {
   "cell_type": "code",
   "execution_count": 53,
   "metadata": {},
   "outputs": [
    {
     "data": {
      "text/plain": [
       "(54300,)"
      ]
     },
     "execution_count": 53,
     "metadata": {},
     "output_type": "execute_result"
    }
   ],
   "source": [
    "predictions.shape"
   ]
  },
  {
   "cell_type": "code",
   "execution_count": 54,
   "metadata": {},
   "outputs": [],
   "source": [
    "X_test = pd.DataFrame.sparse.from_spmatrix(X_test)"
   ]
  },
  {
   "cell_type": "code",
   "execution_count": 56,
   "metadata": {},
   "outputs": [],
   "source": [
    "X_test[\"Category\"] = predictions"
   ]
  },
  {
   "cell_type": "code",
   "execution_count": 58,
   "metadata": {},
   "outputs": [
    {
     "data": {
      "text/plain": [
       "0     6\n",
       "1    20\n",
       "Name: Category, dtype: int64"
      ]
     },
     "execution_count": 58,
     "metadata": {},
     "output_type": "execute_result"
    }
   ],
   "source": [
    "submission_file = X_test[\"Category\"]\n",
    "submission_file.head(2)"
   ]
  },
  {
   "cell_type": "code",
   "execution_count": 60,
   "metadata": {},
   "outputs": [],
   "source": [
    "submission_file.to_csv(DATA_PATH+\"/submission1.csv\", index_label=\"Id\")"
   ]
  }
 ],
 "metadata": {
  "kernelspec": {
   "display_name": "Python 3",
   "language": "python",
   "name": "python3"
  },
  "language_info": {
   "codemirror_mode": {
    "name": "ipython",
    "version": 3
   },
   "file_extension": ".py",
   "mimetype": "text/x-python",
   "name": "python",
   "nbconvert_exporter": "python",
   "pygments_lexer": "ipython3",
   "version": "3.7.9"
  }
 },
 "nbformat": 4,
 "nbformat_minor": 4
}
