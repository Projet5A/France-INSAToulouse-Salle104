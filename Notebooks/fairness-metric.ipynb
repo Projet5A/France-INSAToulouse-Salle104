{
 "cells": [
  {
   "cell_type": "markdown",
   "metadata": {
    "papermill": {
     "duration": 0.017374,
     "end_time": "2020-10-10T11:52:12.306393",
     "exception": false,
     "start_time": "2020-10-10T11:52:12.289019",
     "status": "completed"
    },
    "tags": []
   },
   "source": [
    "# Fairness metric"
   ]
  },
  {
   "cell_type": "markdown",
   "metadata": {
    "papermill": {
     "duration": 0.015569,
     "end_time": "2020-10-10T11:52:12.338521",
     "exception": false,
     "start_time": "2020-10-10T11:52:12.322952",
     "status": "completed"
    },
    "tags": []
   },
   "source": [
    "In this notebook, I'll define the fairness metric that will be used to evaluate the top 10 submissions on the private leaderboard.\n",
    "\n",
    "Let's start by loading the job labels as well as the genders."
   ]
  },
  {
   "cell_type": "code",
   "execution_count": 1,
   "metadata": {
    "_cell_guid": "b1076dfc-b9ad-4769-8c92-a6c4dae69d19",
    "_uuid": "8f2839f25d086af736a60e9eeb907d3b93b6e0e5",
    "execution": {
     "iopub.execute_input": "2020-10-10T11:52:12.379578Z",
     "iopub.status.busy": "2020-10-10T11:52:12.378752Z",
     "iopub.status.idle": "2020-10-10T11:52:12.540042Z",
     "shell.execute_reply": "2020-10-10T11:52:12.539239Z"
    },
    "papermill": {
     "duration": 0.185723,
     "end_time": "2020-10-10T11:52:12.540168",
     "exception": false,
     "start_time": "2020-10-10T11:52:12.354445",
     "status": "completed"
    },
    "tags": []
   },
   "outputs": [
    {
     "data": {
      "text/plain": [
       "Id\n",
       "0     professor\n",
       "1    accountant\n",
       "2     professor\n",
       "3     architect\n",
       "4     architect\n",
       "Name: job, dtype: object"
      ]
     },
     "execution_count": 1,
     "metadata": {},
     "output_type": "execute_result"
    }
   ],
   "source": [
    "import pandas as pd\n",
    "\n",
    "names = pd.read_csv('/kaggle/input/defi-ia-insa-toulouse/categories_string.csv')['0'].to_dict()\n",
    "jobs = pd.read_csv('/kaggle/input/defi-ia-insa-toulouse/train_label.csv', index_col='Id')['Category']\n",
    "jobs = jobs.map(names)\n",
    "jobs = jobs.rename('job')\n",
    "jobs.head()"
   ]
  },
  {
   "cell_type": "code",
   "execution_count": 2,
   "metadata": {
    "execution": {
     "iopub.execute_input": "2020-10-10T11:52:12.581295Z",
     "iopub.status.busy": "2020-10-10T11:52:12.580514Z",
     "iopub.status.idle": "2020-10-10T11:52:14.740958Z",
     "shell.execute_reply": "2020-10-10T11:52:14.740161Z"
    },
    "papermill": {
     "duration": 2.182278,
     "end_time": "2020-10-10T11:52:14.741083",
     "exception": false,
     "start_time": "2020-10-10T11:52:12.558805",
     "status": "completed"
    },
    "tags": []
   },
   "outputs": [
    {
     "data": {
      "text/plain": [
       "Id\n",
       "0    F\n",
       "1    M\n",
       "2    M\n",
       "3    M\n",
       "4    M\n",
       "Name: gender, dtype: object"
      ]
     },
     "execution_count": 2,
     "metadata": {},
     "output_type": "execute_result"
    }
   ],
   "source": [
    "genders = pd.read_json('/kaggle/input/defi-ia-insa-toulouse/train.json').set_index('Id')['gender']\n",
    "genders.head()"
   ]
  },
  {
   "cell_type": "code",
   "execution_count": 3,
   "metadata": {
    "execution": {
     "iopub.execute_input": "2020-10-10T11:52:14.782217Z",
     "iopub.status.busy": "2020-10-10T11:52:14.781463Z",
     "iopub.status.idle": "2020-10-10T11:52:14.800201Z",
     "shell.execute_reply": "2020-10-10T11:52:14.799407Z"
    },
    "papermill": {
     "duration": 0.042052,
     "end_time": "2020-10-10T11:52:14.800350",
     "exception": false,
     "start_time": "2020-10-10T11:52:14.758298",
     "status": "completed"
    },
    "tags": []
   },
   "outputs": [
    {
     "data": {
      "text/html": [
       "<div>\n",
       "<style scoped>\n",
       "    .dataframe tbody tr th:only-of-type {\n",
       "        vertical-align: middle;\n",
       "    }\n",
       "\n",
       "    .dataframe tbody tr th {\n",
       "        vertical-align: top;\n",
       "    }\n",
       "\n",
       "    .dataframe thead th {\n",
       "        text-align: right;\n",
       "    }\n",
       "</style>\n",
       "<table border=\"1\" class=\"dataframe\">\n",
       "  <thead>\n",
       "    <tr style=\"text-align: right;\">\n",
       "      <th></th>\n",
       "      <th>job</th>\n",
       "      <th>gender</th>\n",
       "    </tr>\n",
       "    <tr>\n",
       "      <th>Id</th>\n",
       "      <th></th>\n",
       "      <th></th>\n",
       "    </tr>\n",
       "  </thead>\n",
       "  <tbody>\n",
       "    <tr>\n",
       "      <th>0</th>\n",
       "      <td>professor</td>\n",
       "      <td>F</td>\n",
       "    </tr>\n",
       "    <tr>\n",
       "      <th>1</th>\n",
       "      <td>accountant</td>\n",
       "      <td>M</td>\n",
       "    </tr>\n",
       "    <tr>\n",
       "      <th>2</th>\n",
       "      <td>professor</td>\n",
       "      <td>M</td>\n",
       "    </tr>\n",
       "    <tr>\n",
       "      <th>3</th>\n",
       "      <td>architect</td>\n",
       "      <td>M</td>\n",
       "    </tr>\n",
       "    <tr>\n",
       "      <th>4</th>\n",
       "      <td>architect</td>\n",
       "      <td>M</td>\n",
       "    </tr>\n",
       "  </tbody>\n",
       "</table>\n",
       "</div>"
      ],
      "text/plain": [
       "           job gender\n",
       "Id                   \n",
       "0    professor      F\n",
       "1   accountant      M\n",
       "2    professor      M\n",
       "3    architect      M\n",
       "4    architect      M"
      ]
     },
     "execution_count": 3,
     "metadata": {},
     "output_type": "execute_result"
    }
   ],
   "source": [
    "people = pd.concat((jobs, genders), axis='columns')\n",
    "people.head()"
   ]
  },
  {
   "cell_type": "markdown",
   "metadata": {
    "papermill": {
     "duration": 0.019786,
     "end_time": "2020-10-10T11:52:14.838582",
     "exception": false,
     "start_time": "2020-10-10T11:52:14.818796",
     "status": "completed"
    },
    "tags": []
   },
   "source": [
    "The fairness metric is going to be what I call the \"macro disparate impact\". Essentially, we will look at the individual the disparate impact of each job with respect to both genders, and then compute the non-weighted average of these disparate impacts. Let's first look at the gender distribution for each job."
   ]
  },
  {
   "cell_type": "code",
   "execution_count": 4,
   "metadata": {
    "execution": {
     "iopub.execute_input": "2020-10-10T11:52:14.897792Z",
     "iopub.status.busy": "2020-10-10T11:52:14.885623Z",
     "iopub.status.idle": "2020-10-10T11:52:14.948457Z",
     "shell.execute_reply": "2020-10-10T11:52:14.947673Z"
    },
    "papermill": {
     "duration": 0.091436,
     "end_time": "2020-10-10T11:52:14.948582",
     "exception": false,
     "start_time": "2020-10-10T11:52:14.857146",
     "status": "completed"
    },
    "tags": []
   },
   "outputs": [
    {
     "data": {
      "text/html": [
       "<div>\n",
       "<style scoped>\n",
       "    .dataframe tbody tr th:only-of-type {\n",
       "        vertical-align: middle;\n",
       "    }\n",
       "\n",
       "    .dataframe tbody tr th {\n",
       "        vertical-align: top;\n",
       "    }\n",
       "\n",
       "    .dataframe thead th {\n",
       "        text-align: right;\n",
       "    }\n",
       "</style>\n",
       "<table border=\"1\" class=\"dataframe\">\n",
       "  <thead>\n",
       "    <tr style=\"text-align: right;\">\n",
       "      <th>gender</th>\n",
       "      <th>F</th>\n",
       "      <th>M</th>\n",
       "    </tr>\n",
       "    <tr>\n",
       "      <th>job</th>\n",
       "      <th></th>\n",
       "      <th></th>\n",
       "    </tr>\n",
       "  </thead>\n",
       "  <tbody>\n",
       "    <tr>\n",
       "      <th>accountant</th>\n",
       "      <td>1129</td>\n",
       "      <td>1992</td>\n",
       "    </tr>\n",
       "    <tr>\n",
       "      <th>architect</th>\n",
       "      <td>1314</td>\n",
       "      <td>4527</td>\n",
       "    </tr>\n",
       "    <tr>\n",
       "      <th>attorney</th>\n",
       "      <td>7106</td>\n",
       "      <td>11714</td>\n",
       "    </tr>\n",
       "    <tr>\n",
       "      <th>chiropractor</th>\n",
       "      <td>391</td>\n",
       "      <td>1015</td>\n",
       "    </tr>\n",
       "    <tr>\n",
       "      <th>comedian</th>\n",
       "      <td>345</td>\n",
       "      <td>1294</td>\n",
       "    </tr>\n",
       "    <tr>\n",
       "      <th>composer</th>\n",
       "      <td>553</td>\n",
       "      <td>2842</td>\n",
       "    </tr>\n",
       "    <tr>\n",
       "      <th>dentist</th>\n",
       "      <td>1895</td>\n",
       "      <td>3555</td>\n",
       "    </tr>\n",
       "    <tr>\n",
       "      <th>dietitian</th>\n",
       "      <td>2120</td>\n",
       "      <td>168</td>\n",
       "    </tr>\n",
       "    <tr>\n",
       "      <th>dj</th>\n",
       "      <td>125</td>\n",
       "      <td>706</td>\n",
       "    </tr>\n",
       "    <tr>\n",
       "      <th>filmmaker</th>\n",
       "      <td>1394</td>\n",
       "      <td>2730</td>\n",
       "    </tr>\n",
       "    <tr>\n",
       "      <th>interior_designer</th>\n",
       "      <td>694</td>\n",
       "      <td>164</td>\n",
       "    </tr>\n",
       "    <tr>\n",
       "      <th>journalist</th>\n",
       "      <td>6123</td>\n",
       "      <td>6172</td>\n",
       "    </tr>\n",
       "    <tr>\n",
       "      <th>model</th>\n",
       "      <td>3398</td>\n",
       "      <td>717</td>\n",
       "    </tr>\n",
       "    <tr>\n",
       "      <th>nurse</th>\n",
       "      <td>11493</td>\n",
       "      <td>1129</td>\n",
       "    </tr>\n",
       "    <tr>\n",
       "      <th>painter</th>\n",
       "      <td>2131</td>\n",
       "      <td>2490</td>\n",
       "    </tr>\n",
       "    <tr>\n",
       "      <th>paralegal</th>\n",
       "      <td>814</td>\n",
       "      <td>153</td>\n",
       "    </tr>\n",
       "    <tr>\n",
       "      <th>pastor</th>\n",
       "      <td>360</td>\n",
       "      <td>1137</td>\n",
       "    </tr>\n",
       "    <tr>\n",
       "      <th>personal_trainer</th>\n",
       "      <td>364</td>\n",
       "      <td>443</td>\n",
       "    </tr>\n",
       "    <tr>\n",
       "      <th>photographer</th>\n",
       "      <td>5129</td>\n",
       "      <td>9517</td>\n",
       "    </tr>\n",
       "    <tr>\n",
       "      <th>physician</th>\n",
       "      <td>4581</td>\n",
       "      <td>7026</td>\n",
       "    </tr>\n",
       "    <tr>\n",
       "      <th>poet</th>\n",
       "      <td>2153</td>\n",
       "      <td>2139</td>\n",
       "    </tr>\n",
       "    <tr>\n",
       "      <th>professor</th>\n",
       "      <td>31424</td>\n",
       "      <td>38592</td>\n",
       "    </tr>\n",
       "    <tr>\n",
       "      <th>psychologist</th>\n",
       "      <td>6418</td>\n",
       "      <td>3973</td>\n",
       "    </tr>\n",
       "    <tr>\n",
       "      <th>rapper</th>\n",
       "      <td>64</td>\n",
       "      <td>719</td>\n",
       "    </tr>\n",
       "    <tr>\n",
       "      <th>software_engineer</th>\n",
       "      <td>613</td>\n",
       "      <td>3447</td>\n",
       "    </tr>\n",
       "    <tr>\n",
       "      <th>surgeon</th>\n",
       "      <td>890</td>\n",
       "      <td>5726</td>\n",
       "    </tr>\n",
       "    <tr>\n",
       "      <th>teacher</th>\n",
       "      <td>5420</td>\n",
       "      <td>3725</td>\n",
       "    </tr>\n",
       "    <tr>\n",
       "      <th>yoga_teacher</th>\n",
       "      <td>803</td>\n",
       "      <td>141</td>\n",
       "    </tr>\n",
       "  </tbody>\n",
       "</table>\n",
       "</div>"
      ],
      "text/plain": [
       "gender                 F      M\n",
       "job                            \n",
       "accountant          1129   1992\n",
       "architect           1314   4527\n",
       "attorney            7106  11714\n",
       "chiropractor         391   1015\n",
       "comedian             345   1294\n",
       "composer             553   2842\n",
       "dentist             1895   3555\n",
       "dietitian           2120    168\n",
       "dj                   125    706\n",
       "filmmaker           1394   2730\n",
       "interior_designer    694    164\n",
       "journalist          6123   6172\n",
       "model               3398    717\n",
       "nurse              11493   1129\n",
       "painter             2131   2490\n",
       "paralegal            814    153\n",
       "pastor               360   1137\n",
       "personal_trainer     364    443\n",
       "photographer        5129   9517\n",
       "physician           4581   7026\n",
       "poet                2153   2139\n",
       "professor          31424  38592\n",
       "psychologist        6418   3973\n",
       "rapper                64    719\n",
       "software_engineer    613   3447\n",
       "surgeon              890   5726\n",
       "teacher             5420   3725\n",
       "yoga_teacher         803    141"
      ]
     },
     "execution_count": 4,
     "metadata": {},
     "output_type": "execute_result"
    }
   ],
   "source": [
    "counts = people.groupby(['job', 'gender']).size().unstack('gender')\n",
    "counts"
   ]
  },
  {
   "cell_type": "markdown",
   "metadata": {
    "papermill": {
     "duration": 0.018456,
     "end_time": "2020-10-10T11:52:14.986029",
     "exception": false,
     "start_time": "2020-10-10T11:52:14.967573",
     "status": "completed"
    },
    "tags": []
   },
   "source": [
    "Now let's compute the disparate impact for each job."
   ]
  },
  {
   "cell_type": "code",
   "execution_count": 5,
   "metadata": {
    "execution": {
     "iopub.execute_input": "2020-10-10T11:52:15.046635Z",
     "iopub.status.busy": "2020-10-10T11:52:15.045469Z",
     "iopub.status.idle": "2020-10-10T11:52:15.050456Z",
     "shell.execute_reply": "2020-10-10T11:52:15.049838Z"
    },
    "papermill": {
     "duration": 0.043941,
     "end_time": "2020-10-10T11:52:15.050593",
     "exception": false,
     "start_time": "2020-10-10T11:52:15.006652",
     "status": "completed"
    },
    "tags": []
   },
   "outputs": [
    {
     "data": {
      "text/html": [
       "<div>\n",
       "<style scoped>\n",
       "    .dataframe tbody tr th:only-of-type {\n",
       "        vertical-align: middle;\n",
       "    }\n",
       "\n",
       "    .dataframe tbody tr th {\n",
       "        vertical-align: top;\n",
       "    }\n",
       "\n",
       "    .dataframe thead th {\n",
       "        text-align: right;\n",
       "    }\n",
       "</style>\n",
       "<table border=\"1\" class=\"dataframe\">\n",
       "  <thead>\n",
       "    <tr style=\"text-align: right;\">\n",
       "      <th>gender</th>\n",
       "      <th>F</th>\n",
       "      <th>M</th>\n",
       "      <th>disparate_impact</th>\n",
       "    </tr>\n",
       "    <tr>\n",
       "      <th>job</th>\n",
       "      <th></th>\n",
       "      <th></th>\n",
       "      <th></th>\n",
       "    </tr>\n",
       "  </thead>\n",
       "  <tbody>\n",
       "    <tr>\n",
       "      <th>dietitian</th>\n",
       "      <td>2120</td>\n",
       "      <td>168</td>\n",
       "      <td>12.619048</td>\n",
       "    </tr>\n",
       "    <tr>\n",
       "      <th>rapper</th>\n",
       "      <td>64</td>\n",
       "      <td>719</td>\n",
       "      <td>11.234375</td>\n",
       "    </tr>\n",
       "    <tr>\n",
       "      <th>nurse</th>\n",
       "      <td>11493</td>\n",
       "      <td>1129</td>\n",
       "      <td>10.179805</td>\n",
       "    </tr>\n",
       "    <tr>\n",
       "      <th>surgeon</th>\n",
       "      <td>890</td>\n",
       "      <td>5726</td>\n",
       "      <td>6.433708</td>\n",
       "    </tr>\n",
       "    <tr>\n",
       "      <th>yoga_teacher</th>\n",
       "      <td>803</td>\n",
       "      <td>141</td>\n",
       "      <td>5.695035</td>\n",
       "    </tr>\n",
       "    <tr>\n",
       "      <th>dj</th>\n",
       "      <td>125</td>\n",
       "      <td>706</td>\n",
       "      <td>5.648000</td>\n",
       "    </tr>\n",
       "    <tr>\n",
       "      <th>software_engineer</th>\n",
       "      <td>613</td>\n",
       "      <td>3447</td>\n",
       "      <td>5.623165</td>\n",
       "    </tr>\n",
       "    <tr>\n",
       "      <th>paralegal</th>\n",
       "      <td>814</td>\n",
       "      <td>153</td>\n",
       "      <td>5.320261</td>\n",
       "    </tr>\n",
       "    <tr>\n",
       "      <th>composer</th>\n",
       "      <td>553</td>\n",
       "      <td>2842</td>\n",
       "      <td>5.139241</td>\n",
       "    </tr>\n",
       "    <tr>\n",
       "      <th>model</th>\n",
       "      <td>3398</td>\n",
       "      <td>717</td>\n",
       "      <td>4.739191</td>\n",
       "    </tr>\n",
       "    <tr>\n",
       "      <th>interior_designer</th>\n",
       "      <td>694</td>\n",
       "      <td>164</td>\n",
       "      <td>4.231707</td>\n",
       "    </tr>\n",
       "    <tr>\n",
       "      <th>comedian</th>\n",
       "      <td>345</td>\n",
       "      <td>1294</td>\n",
       "      <td>3.750725</td>\n",
       "    </tr>\n",
       "    <tr>\n",
       "      <th>architect</th>\n",
       "      <td>1314</td>\n",
       "      <td>4527</td>\n",
       "      <td>3.445205</td>\n",
       "    </tr>\n",
       "    <tr>\n",
       "      <th>pastor</th>\n",
       "      <td>360</td>\n",
       "      <td>1137</td>\n",
       "      <td>3.158333</td>\n",
       "    </tr>\n",
       "    <tr>\n",
       "      <th>chiropractor</th>\n",
       "      <td>391</td>\n",
       "      <td>1015</td>\n",
       "      <td>2.595908</td>\n",
       "    </tr>\n",
       "    <tr>\n",
       "      <th>filmmaker</th>\n",
       "      <td>1394</td>\n",
       "      <td>2730</td>\n",
       "      <td>1.958393</td>\n",
       "    </tr>\n",
       "    <tr>\n",
       "      <th>dentist</th>\n",
       "      <td>1895</td>\n",
       "      <td>3555</td>\n",
       "      <td>1.875989</td>\n",
       "    </tr>\n",
       "    <tr>\n",
       "      <th>photographer</th>\n",
       "      <td>5129</td>\n",
       "      <td>9517</td>\n",
       "      <td>1.855527</td>\n",
       "    </tr>\n",
       "    <tr>\n",
       "      <th>accountant</th>\n",
       "      <td>1129</td>\n",
       "      <td>1992</td>\n",
       "      <td>1.764393</td>\n",
       "    </tr>\n",
       "    <tr>\n",
       "      <th>attorney</th>\n",
       "      <td>7106</td>\n",
       "      <td>11714</td>\n",
       "      <td>1.648466</td>\n",
       "    </tr>\n",
       "    <tr>\n",
       "      <th>psychologist</th>\n",
       "      <td>6418</td>\n",
       "      <td>3973</td>\n",
       "      <td>1.615404</td>\n",
       "    </tr>\n",
       "    <tr>\n",
       "      <th>physician</th>\n",
       "      <td>4581</td>\n",
       "      <td>7026</td>\n",
       "      <td>1.533726</td>\n",
       "    </tr>\n",
       "    <tr>\n",
       "      <th>teacher</th>\n",
       "      <td>5420</td>\n",
       "      <td>3725</td>\n",
       "      <td>1.455034</td>\n",
       "    </tr>\n",
       "    <tr>\n",
       "      <th>professor</th>\n",
       "      <td>31424</td>\n",
       "      <td>38592</td>\n",
       "      <td>1.228106</td>\n",
       "    </tr>\n",
       "    <tr>\n",
       "      <th>personal_trainer</th>\n",
       "      <td>364</td>\n",
       "      <td>443</td>\n",
       "      <td>1.217033</td>\n",
       "    </tr>\n",
       "    <tr>\n",
       "      <th>painter</th>\n",
       "      <td>2131</td>\n",
       "      <td>2490</td>\n",
       "      <td>1.168466</td>\n",
       "    </tr>\n",
       "    <tr>\n",
       "      <th>journalist</th>\n",
       "      <td>6123</td>\n",
       "      <td>6172</td>\n",
       "      <td>1.008003</td>\n",
       "    </tr>\n",
       "    <tr>\n",
       "      <th>poet</th>\n",
       "      <td>2153</td>\n",
       "      <td>2139</td>\n",
       "      <td>1.006545</td>\n",
       "    </tr>\n",
       "  </tbody>\n",
       "</table>\n",
       "</div>"
      ],
      "text/plain": [
       "gender                 F      M  disparate_impact\n",
       "job                                              \n",
       "dietitian           2120    168         12.619048\n",
       "rapper                64    719         11.234375\n",
       "nurse              11493   1129         10.179805\n",
       "surgeon              890   5726          6.433708\n",
       "yoga_teacher         803    141          5.695035\n",
       "dj                   125    706          5.648000\n",
       "software_engineer    613   3447          5.623165\n",
       "paralegal            814    153          5.320261\n",
       "composer             553   2842          5.139241\n",
       "model               3398    717          4.739191\n",
       "interior_designer    694    164          4.231707\n",
       "comedian             345   1294          3.750725\n",
       "architect           1314   4527          3.445205\n",
       "pastor               360   1137          3.158333\n",
       "chiropractor         391   1015          2.595908\n",
       "filmmaker           1394   2730          1.958393\n",
       "dentist             1895   3555          1.875989\n",
       "photographer        5129   9517          1.855527\n",
       "accountant          1129   1992          1.764393\n",
       "attorney            7106  11714          1.648466\n",
       "psychologist        6418   3973          1.615404\n",
       "physician           4581   7026          1.533726\n",
       "teacher             5420   3725          1.455034\n",
       "professor          31424  38592          1.228106\n",
       "personal_trainer     364    443          1.217033\n",
       "painter             2131   2490          1.168466\n",
       "journalist          6123   6172          1.008003\n",
       "poet                2153   2139          1.006545"
      ]
     },
     "execution_count": 5,
     "metadata": {},
     "output_type": "execute_result"
    }
   ],
   "source": [
    "counts['disparate_impact'] = counts[['M', 'F']].max(axis='columns') / counts[['M', 'F']].min(axis='columns')\n",
    "counts.sort_values('disparate_impact', ascending=False)"
   ]
  },
  {
   "cell_type": "markdown",
   "metadata": {
    "papermill": {
     "duration": 0.019303,
     "end_time": "2020-10-10T11:52:15.089834",
     "exception": false,
     "start_time": "2020-10-10T11:52:15.070531",
     "status": "completed"
    },
    "tags": []
   },
   "source": [
    "Now we can obtain the macro disparate impact by simply computing the average of the `disparate_impact` column."
   ]
  },
  {
   "cell_type": "code",
   "execution_count": 6,
   "metadata": {
    "execution": {
     "iopub.execute_input": "2020-10-10T11:52:15.136118Z",
     "iopub.status.busy": "2020-10-10T11:52:15.135050Z",
     "iopub.status.idle": "2020-10-10T11:52:15.139477Z",
     "shell.execute_reply": "2020-10-10T11:52:15.138715Z"
    },
    "papermill": {
     "duration": 0.030112,
     "end_time": "2020-10-10T11:52:15.139616",
     "exception": false,
     "start_time": "2020-10-10T11:52:15.109504",
     "status": "completed"
    },
    "tags": []
   },
   "outputs": [
    {
     "data": {
      "text/plain": [
       "3.898171170378378"
      ]
     },
     "execution_count": 6,
     "metadata": {},
     "output_type": "execute_result"
    }
   ],
   "source": [
    "counts['disparate_impact'].mean()"
   ]
  },
  {
   "cell_type": "markdown",
   "metadata": {
    "papermill": {
     "duration": 0.020826,
     "end_time": "2020-10-10T11:52:15.180743",
     "exception": false,
     "start_time": "2020-10-10T11:52:15.159917",
     "status": "completed"
    },
    "tags": []
   },
   "source": [
    "Let's write a function to do all of this in one step."
   ]
  },
  {
   "cell_type": "code",
   "execution_count": 7,
   "metadata": {
    "execution": {
     "iopub.execute_input": "2020-10-10T11:52:15.236167Z",
     "iopub.status.busy": "2020-10-10T11:52:15.235142Z",
     "iopub.status.idle": "2020-10-10T11:52:15.240119Z",
     "shell.execute_reply": "2020-10-10T11:52:15.239452Z"
    },
    "papermill": {
     "duration": 0.039084,
     "end_time": "2020-10-10T11:52:15.240239",
     "exception": false,
     "start_time": "2020-10-10T11:52:15.201155",
     "status": "completed"
    },
    "tags": []
   },
   "outputs": [
    {
     "data": {
      "text/html": [
       "<div>\n",
       "<style scoped>\n",
       "    .dataframe tbody tr th:only-of-type {\n",
       "        vertical-align: middle;\n",
       "    }\n",
       "\n",
       "    .dataframe tbody tr th {\n",
       "        vertical-align: top;\n",
       "    }\n",
       "\n",
       "    .dataframe thead th {\n",
       "        text-align: right;\n",
       "    }\n",
       "</style>\n",
       "<table border=\"1\" class=\"dataframe\">\n",
       "  <thead>\n",
       "    <tr style=\"text-align: right;\">\n",
       "      <th></th>\n",
       "      <th>job</th>\n",
       "      <th>gender</th>\n",
       "    </tr>\n",
       "    <tr>\n",
       "      <th>Id</th>\n",
       "      <th></th>\n",
       "      <th></th>\n",
       "    </tr>\n",
       "  </thead>\n",
       "  <tbody>\n",
       "    <tr>\n",
       "      <th>0</th>\n",
       "      <td>professor</td>\n",
       "      <td>F</td>\n",
       "    </tr>\n",
       "    <tr>\n",
       "      <th>1</th>\n",
       "      <td>accountant</td>\n",
       "      <td>M</td>\n",
       "    </tr>\n",
       "    <tr>\n",
       "      <th>2</th>\n",
       "      <td>professor</td>\n",
       "      <td>M</td>\n",
       "    </tr>\n",
       "    <tr>\n",
       "      <th>3</th>\n",
       "      <td>architect</td>\n",
       "      <td>M</td>\n",
       "    </tr>\n",
       "    <tr>\n",
       "      <th>4</th>\n",
       "      <td>architect</td>\n",
       "      <td>M</td>\n",
       "    </tr>\n",
       "  </tbody>\n",
       "</table>\n",
       "</div>"
      ],
      "text/plain": [
       "           job gender\n",
       "Id                   \n",
       "0    professor      F\n",
       "1   accountant      M\n",
       "2    professor      M\n",
       "3    architect      M\n",
       "4    architect      M"
      ]
     },
     "execution_count": 7,
     "metadata": {},
     "output_type": "execute_result"
    }
   ],
   "source": [
    "def macro_disparate_impact(people):\n",
    "    counts = people.groupby(['job', 'gender']).size().unstack('gender')\n",
    "    counts['disparate_impact'] = counts[['M', 'F']].max(axis='columns') / counts[['M', 'F']].min(axis='columns')\n",
    "    return counts['disparate_impact'].mean()\n",
    "\n",
    "people.head()"
   ]
  },
  {
   "cell_type": "code",
   "execution_count": 8,
   "metadata": {
    "execution": {
     "iopub.execute_input": "2020-10-10T11:52:15.292163Z",
     "iopub.status.busy": "2020-10-10T11:52:15.291391Z",
     "iopub.status.idle": "2020-10-10T11:52:15.346609Z",
     "shell.execute_reply": "2020-10-10T11:52:15.345855Z"
    },
    "papermill": {
     "duration": 0.085296,
     "end_time": "2020-10-10T11:52:15.346733",
     "exception": false,
     "start_time": "2020-10-10T11:52:15.261437",
     "status": "completed"
    },
    "tags": []
   },
   "outputs": [
    {
     "data": {
      "text/plain": [
       "3.898171170378378"
      ]
     },
     "execution_count": 8,
     "metadata": {},
     "output_type": "execute_result"
    }
   ],
   "source": [
    "macro_disparate_impact(people)"
   ]
  },
  {
   "cell_type": "markdown",
   "metadata": {
    "papermill": {
     "duration": 0.022023,
     "end_time": "2020-10-10T11:52:15.390949",
     "exception": false,
     "start_time": "2020-10-10T11:52:15.368926",
     "status": "completed"
    },
    "tags": []
   },
   "source": [
    "The obtained value is the macro disparate impact for the labels in the training data. What if we want to evaluate the fairness of a model? Let's do that. \n",
    "\n",
    "We'll split the training data in two. We'll train a model on the first half of the training data and test on the remaining half."
   ]
  },
  {
   "cell_type": "code",
   "execution_count": 9,
   "metadata": {
    "execution": {
     "iopub.execute_input": "2020-10-10T11:52:15.443209Z",
     "iopub.status.busy": "2020-10-10T11:52:15.442277Z",
     "iopub.status.idle": "2020-10-10T11:52:18.079975Z",
     "shell.execute_reply": "2020-10-10T11:52:18.081532Z"
    },
    "papermill": {
     "duration": 2.668381,
     "end_time": "2020-10-10T11:52:18.081748",
     "exception": false,
     "start_time": "2020-10-10T11:52:15.413367",
     "status": "completed"
    },
    "tags": []
   },
   "outputs": [],
   "source": [
    "from sklearn import model_selection\n",
    "\n",
    "descriptions = pd.read_json('/kaggle/input/defi-ia-insa-toulouse/train.json').set_index('Id')['description']\n",
    "\n",
    "X_train, X_test, y_train, y_test, gender_train, gender_test = model_selection.train_test_split(\n",
    "    descriptions,\n",
    "    jobs,\n",
    "    genders,\n",
    "    test_size=.5,\n",
    "    random_state=42\n",
    ")"
   ]
  },
  {
   "cell_type": "markdown",
   "metadata": {
    "papermill": {
     "duration": 0.025969,
     "end_time": "2020-10-10T11:52:18.138204",
     "exception": false,
     "start_time": "2020-10-10T11:52:18.112235",
     "status": "completed"
    },
    "tags": []
   },
   "source": [
    "We'll build a simple TF-IDF extractor followed by a multinomial classifier."
   ]
  },
  {
   "cell_type": "code",
   "execution_count": 10,
   "metadata": {
    "execution": {
     "iopub.execute_input": "2020-10-10T11:52:18.194003Z",
     "iopub.status.busy": "2020-10-10T11:52:18.193057Z",
     "iopub.status.idle": "2020-10-10T11:54:40.965545Z",
     "shell.execute_reply": "2020-10-10T11:54:40.966510Z"
    },
    "papermill": {
     "duration": 142.805236,
     "end_time": "2020-10-10T11:54:40.966761",
     "exception": false,
     "start_time": "2020-10-10T11:52:18.161525",
     "status": "completed"
    },
    "tags": []
   },
   "outputs": [
    {
     "name": "stderr",
     "output_type": "stream",
     "text": [
      "/opt/conda/lib/python3.7/site-packages/sklearn/linear_model/_logistic.py:764: ConvergenceWarning: lbfgs failed to converge (status=1):\n",
      "STOP: TOTAL NO. of ITERATIONS REACHED LIMIT.\n",
      "\n",
      "Increase the number of iterations (max_iter) or scale the data as shown in:\n",
      "    https://scikit-learn.org/stable/modules/preprocessing.html\n",
      "Please also refer to the documentation for alternative solver options:\n",
      "    https://scikit-learn.org/stable/modules/linear_model.html#logistic-regression\n",
      "  extra_warning_msg=_LOGISTIC_SOLVER_CONVERGENCE_MSG)\n"
     ]
    }
   ],
   "source": [
    "from sklearn import feature_extraction\n",
    "from sklearn import linear_model\n",
    "from sklearn import pipeline\n",
    "from sklearn import preprocessing\n",
    "\n",
    "model = pipeline.make_pipeline(\n",
    "    feature_extraction.text.TfidfVectorizer(),\n",
    "    preprocessing.Normalizer(),\n",
    "    linear_model.LogisticRegression(multi_class='multinomial')\n",
    ")\n",
    "\n",
    "model = model.fit(X_train, y_train)"
   ]
  },
  {
   "cell_type": "code",
   "execution_count": 11,
   "metadata": {
    "execution": {
     "iopub.execute_input": "2020-10-10T11:54:41.026579Z",
     "iopub.status.busy": "2020-10-10T11:54:41.021555Z",
     "iopub.status.idle": "2020-10-10T11:54:51.842075Z",
     "shell.execute_reply": "2020-10-10T11:54:51.841352Z"
    },
    "papermill": {
     "duration": 10.852839,
     "end_time": "2020-10-10T11:54:51.842192",
     "exception": false,
     "start_time": "2020-10-10T11:54:40.989353",
     "status": "completed"
    },
    "tags": []
   },
   "outputs": [
    {
     "data": {
      "text/plain": [
       "Id\n",
       "83232       professor\n",
       "19036       professor\n",
       "35087    photographer\n",
       "86945       professor\n",
       "79762       professor\n",
       "Name: job, dtype: object"
      ]
     },
     "execution_count": 11,
     "metadata": {},
     "output_type": "execute_result"
    }
   ],
   "source": [
    "y_pred = model.predict(X_test)\n",
    "y_pred = pd.Series(y_pred, name='job', index=X_test.index)\n",
    "y_pred.head()"
   ]
  },
  {
   "cell_type": "code",
   "execution_count": 12,
   "metadata": {
    "execution": {
     "iopub.execute_input": "2020-10-10T11:54:51.895565Z",
     "iopub.status.busy": "2020-10-10T11:54:51.894080Z",
     "iopub.status.idle": "2020-10-10T11:54:51.909994Z",
     "shell.execute_reply": "2020-10-10T11:54:51.910587Z"
    },
    "papermill": {
     "duration": 0.045462,
     "end_time": "2020-10-10T11:54:51.910755",
     "exception": false,
     "start_time": "2020-10-10T11:54:51.865293",
     "status": "completed"
    },
    "tags": []
   },
   "outputs": [
    {
     "data": {
      "text/html": [
       "<div>\n",
       "<style scoped>\n",
       "    .dataframe tbody tr th:only-of-type {\n",
       "        vertical-align: middle;\n",
       "    }\n",
       "\n",
       "    .dataframe tbody tr th {\n",
       "        vertical-align: top;\n",
       "    }\n",
       "\n",
       "    .dataframe thead th {\n",
       "        text-align: right;\n",
       "    }\n",
       "</style>\n",
       "<table border=\"1\" class=\"dataframe\">\n",
       "  <thead>\n",
       "    <tr style=\"text-align: right;\">\n",
       "      <th></th>\n",
       "      <th>job</th>\n",
       "      <th>gender</th>\n",
       "    </tr>\n",
       "    <tr>\n",
       "      <th>Id</th>\n",
       "      <th></th>\n",
       "      <th></th>\n",
       "    </tr>\n",
       "  </thead>\n",
       "  <tbody>\n",
       "    <tr>\n",
       "      <th>83232</th>\n",
       "      <td>professor</td>\n",
       "      <td>F</td>\n",
       "    </tr>\n",
       "    <tr>\n",
       "      <th>19036</th>\n",
       "      <td>professor</td>\n",
       "      <td>M</td>\n",
       "    </tr>\n",
       "    <tr>\n",
       "      <th>35087</th>\n",
       "      <td>photographer</td>\n",
       "      <td>M</td>\n",
       "    </tr>\n",
       "    <tr>\n",
       "      <th>86945</th>\n",
       "      <td>professor</td>\n",
       "      <td>M</td>\n",
       "    </tr>\n",
       "    <tr>\n",
       "      <th>79762</th>\n",
       "      <td>professor</td>\n",
       "      <td>F</td>\n",
       "    </tr>\n",
       "    <tr>\n",
       "      <th>...</th>\n",
       "      <td>...</td>\n",
       "      <td>...</td>\n",
       "    </tr>\n",
       "    <tr>\n",
       "      <th>141605</th>\n",
       "      <td>professor</td>\n",
       "      <td>F</td>\n",
       "    </tr>\n",
       "    <tr>\n",
       "      <th>104258</th>\n",
       "      <td>journalist</td>\n",
       "      <td>F</td>\n",
       "    </tr>\n",
       "    <tr>\n",
       "      <th>72072</th>\n",
       "      <td>professor</td>\n",
       "      <td>M</td>\n",
       "    </tr>\n",
       "    <tr>\n",
       "      <th>208591</th>\n",
       "      <td>psychologist</td>\n",
       "      <td>F</td>\n",
       "    </tr>\n",
       "    <tr>\n",
       "      <th>132286</th>\n",
       "      <td>professor</td>\n",
       "      <td>F</td>\n",
       "    </tr>\n",
       "  </tbody>\n",
       "</table>\n",
       "<p>108599 rows × 2 columns</p>\n",
       "</div>"
      ],
      "text/plain": [
       "                 job gender\n",
       "Id                         \n",
       "83232      professor      F\n",
       "19036      professor      M\n",
       "35087   photographer      M\n",
       "86945      professor      M\n",
       "79762      professor      F\n",
       "...              ...    ...\n",
       "141605     professor      F\n",
       "104258    journalist      F\n",
       "72072      professor      M\n",
       "208591  psychologist      F\n",
       "132286     professor      F\n",
       "\n",
       "[108599 rows x 2 columns]"
      ]
     },
     "execution_count": 12,
     "metadata": {},
     "output_type": "execute_result"
    }
   ],
   "source": [
    "test_people = pd.concat((y_pred, gender_test), axis='columns')\n",
    "test_people"
   ]
  },
  {
   "cell_type": "code",
   "execution_count": 13,
   "metadata": {
    "execution": {
     "iopub.execute_input": "2020-10-10T11:54:51.976165Z",
     "iopub.status.busy": "2020-10-10T11:54:51.975424Z",
     "iopub.status.idle": "2020-10-10T11:54:52.005354Z",
     "shell.execute_reply": "2020-10-10T11:54:52.004721Z"
    },
    "papermill": {
     "duration": 0.069536,
     "end_time": "2020-10-10T11:54:52.005490",
     "exception": false,
     "start_time": "2020-10-10T11:54:51.935954",
     "status": "completed"
    },
    "tags": []
   },
   "outputs": [
    {
     "data": {
      "text/plain": [
       "5.112365210475933"
      ]
     },
     "execution_count": 13,
     "metadata": {},
     "output_type": "execute_result"
    }
   ],
   "source": [
    "macro_disparate_impact(test_people)"
   ]
  },
  {
   "cell_type": "markdown",
   "metadata": {
    "papermill": {
     "duration": 0.025041,
     "end_time": "2020-10-10T11:54:52.055371",
     "exception": false,
     "start_time": "2020-10-10T11:54:52.030330",
     "status": "completed"
    },
    "tags": []
   },
   "source": [
    "The model has worsened the fairness metric! The goal of this competition is to develop a model that lowers the fairness metric. The minimum attainable value is 1. Good luck!"
   ]
  }
 ],
 "metadata": {
  "kernelspec": {
   "display_name": "Python 3",
   "language": "python",
   "name": "python3"
  },
  "language_info": {
   "codemirror_mode": {
    "name": "ipython",
    "version": 3
   },
   "file_extension": ".py",
   "mimetype": "text/x-python",
   "name": "python",
   "nbconvert_exporter": "python",
   "pygments_lexer": "ipython3",
   "version": "3.7.6"
  },
  "papermill": {
   "duration": 165.200793,
   "end_time": "2020-10-10T11:54:52.187824",
   "environment_variables": {},
   "exception": null,
   "input_path": "__notebook__.ipynb",
   "output_path": "__notebook__.ipynb",
   "parameters": {},
   "start_time": "2020-10-10T11:52:06.987031",
   "version": "2.1.0"
  }
 },
 "nbformat": 4,
 "nbformat_minor": 4
}
